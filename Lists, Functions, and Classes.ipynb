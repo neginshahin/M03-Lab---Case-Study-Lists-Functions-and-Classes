{
 "cells": [
  {
   "cell_type": "code",
   "execution_count": 1,
   "id": "152a8ef6",
   "metadata": {},
   "outputs": [],
   "source": [
    "class Vehicle:\n",
    "    def __init__ (self, v_type):\n",
    "        self.v_type = v_type"
   ]
  },
  {
   "cell_type": "code",
   "execution_count": 2,
   "id": "a3b9c73f",
   "metadata": {},
   "outputs": [],
   "source": [
    "class Automobile (Vehicle):\n",
    "    def __init__ (self, v_type, year, make, model, doors, roof):\n",
    "        Vehicle.__init__(self, v_type)\n",
    "        self.year = year\n",
    "        self.make = make\n",
    "        self.model = model\n",
    "        self.doors = doors\n",
    "        self.roof = roof"
   ]
  },
  {
   "cell_type": "code",
   "execution_count": 5,
   "id": "402fe34c",
   "metadata": {},
   "outputs": [
    {
     "name": "stdout",
     "output_type": "stream",
     "text": [
      "Vehicle type: Car\n",
      "Year: 2022\n",
      "Make: Toyota\n",
      "Model: Corolla\n",
      "Number of doors: 4\n",
      "Type of roof: Sun roof\n",
      "\n",
      "Vehicle Type:  Car \n",
      "Year:  2022 \n",
      "Make:  Toyota \n",
      "Model:  Corolla \n",
      "No of Doors:  4 \n",
      "Roof Type:  Sun roof\n"
     ]
    }
   ],
   "source": [
    "v_type = input (\"Vehicle type: \")\n",
    "year = input (\"Year: \")\n",
    "make = input (\"Make: \")\n",
    "model = input (\"Model: \")\n",
    "doors = input (\"Number of doors: \")\n",
    "roof = input (\"Type of roof: \")\n",
    "car = Automobile (v_type, year, make, model, doors, roof)\n",
    "print (\"\\nVehicle Type: \", car.v_type, \"\\nYear: \" , car.year, \"\\nMake: \", car.make, \"\\nModel: \", car.model, \\\n",
    "           \"\\nNo of Doors: \", car.doors, \"\\nRoof Type: \", car.roof)"
   ]
  }
 ],
 "metadata": {
  "kernelspec": {
   "display_name": "Python 3 (ipykernel)",
   "language": "python",
   "name": "python3"
  },
  "language_info": {
   "codemirror_mode": {
    "name": "ipython",
    "version": 3
   },
   "file_extension": ".py",
   "mimetype": "text/x-python",
   "name": "python",
   "nbconvert_exporter": "python",
   "pygments_lexer": "ipython3",
   "version": "3.10.9"
  }
 },
 "nbformat": 4,
 "nbformat_minor": 5
}
